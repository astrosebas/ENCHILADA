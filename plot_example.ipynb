{
 "metadata": {
  "language_info": {
   "codemirror_mode": {
    "name": "ipython",
    "version": 3
   },
   "file_extension": ".py",
   "mimetype": "text/x-python",
   "name": "python",
   "nbconvert_exporter": "python",
   "pygments_lexer": "ipython3",
   "version": "3.7.9"
  },
  "orig_nbformat": 4,
  "kernelspec": {
   "name": "python3",
   "display_name": "Python 3.7.9 64-bit ('base': conda)"
  },
  "interpreter": {
   "hash": "57920c7321e044e59dca1f6530878a08b832e39293fcfda4d618585353e5d748"
  }
 },
 "nbformat": 4,
 "nbformat_minor": 2,
 "cells": [
  {
   "cell_type": "code",
   "execution_count": 3,
   "metadata": {},
   "outputs": [
    {
     "output_type": "stream",
     "name": "stdout",
     "text": [
      "Using matplotlib backend: Qt5Agg\n"
     ]
    }
   ],
   "source": [
    "import numpy as np\n",
    "import pandas as pd\n",
    "import matplotlib.pyplot as plt\n",
    "%matplotlib auto"
   ]
  },
  {
   "cell_type": "code",
   "execution_count": 4,
   "metadata": {},
   "outputs": [],
   "source": [
    "# Diámetro de campo de visiión de TAOS-II\n",
    "f_view = 1.7\n",
    "df = f_view/2"
   ]
  },
  {
   "cell_type": "code",
   "execution_count": 10,
   "metadata": {},
   "outputs": [],
   "source": [
    "fields = pd.read_csv('TAOS_fields.csv',header=1)\n",
    "\n",
    "RA_fields = fields['RA_EQ_dec']\n",
    "DEC_fields =  fields['Dec_EQ_dec']"
   ]
  },
  {
   "cell_type": "code",
   "execution_count": null,
   "metadata": {},
   "outputs": [],
   "source": [
    "obs = pd.read_csv('ob_positions.csv',header=0)\n",
    "\n",
    "RA_ob = obs['RA']\n",
    "DEC_ob =  obs['DEC']"
   ]
  },
  {
   "cell_type": "code",
   "execution_count": 14,
   "metadata": {},
   "outputs": [
    {
     "output_type": "error",
     "ename": "TypeError",
     "evalue": "'>' not supported between instances of 'TableList' and 'int'",
     "traceback": [
      "\u001b[0;31m---------------------------------------------------------------------------\u001b[0m",
      "\u001b[0;31mTypeError\u001b[0m                                 Traceback (most recent call last)",
      "\u001b[0;32m<ipython-input-14-f134a4d9a14e>\u001b[0m in \u001b[0;36m<module>\u001b[0;34m\u001b[0m\n\u001b[1;32m      8\u001b[0m     \u001b[0mc\u001b[0m \u001b[0;34m=\u001b[0m \u001b[0mcoordinates\u001b[0m\u001b[0;34m.\u001b[0m\u001b[0mSkyCoord\u001b[0m\u001b[0;34m(\u001b[0m\u001b[0mRA_fields\u001b[0m\u001b[0;34m,\u001b[0m \u001b[0mDEC_fields\u001b[0m\u001b[0;34m,\u001b[0m \u001b[0munit\u001b[0m\u001b[0;34m=\u001b[0m\u001b[0;34m(\u001b[0m\u001b[0;34m'deg'\u001b[0m\u001b[0;34m,\u001b[0m \u001b[0;34m'deg'\u001b[0m\u001b[0;34m)\u001b[0m\u001b[0;34m,\u001b[0m   \u001b[0mframe\u001b[0m\u001b[0;34m=\u001b[0m\u001b[0;34m'icrs'\u001b[0m\u001b[0;34m)\u001b[0m\u001b[0;34m\u001b[0m\u001b[0;34m\u001b[0m\u001b[0m\n\u001b[1;32m      9\u001b[0m     \u001b[0mresult\u001b[0m \u001b[0;34m=\u001b[0m \u001b[0mv\u001b[0m\u001b[0;34m.\u001b[0m\u001b[0mquery_region\u001b[0m\u001b[0;34m(\u001b[0m\u001b[0mc\u001b[0m\u001b[0;34m,\u001b[0m \u001b[0mradius\u001b[0m\u001b[0;34m=\u001b[0m\u001b[0;36m1.7\u001b[0m\u001b[0;34m*\u001b[0m\u001b[0mu\u001b[0m\u001b[0;34m.\u001b[0m\u001b[0mdeg\u001b[0m\u001b[0;34m)\u001b[0m\u001b[0;34m\u001b[0m\u001b[0;34m\u001b[0m\u001b[0m\n\u001b[0;32m---> 10\u001b[0;31m     \u001b[0;32mif\u001b[0m \u001b[0mresult\u001b[0m \u001b[0;34m>\u001b[0m \u001b[0;36m0\u001b[0m\u001b[0;34m:\u001b[0m\u001b[0;34m\u001b[0m\u001b[0;34m\u001b[0m\u001b[0m\n\u001b[0m\u001b[1;32m     11\u001b[0m         \u001b[0mprint\u001b[0m\u001b[0;34m(\u001b[0m\u001b[0mlen\u001b[0m\u001b[0;34m(\u001b[0m\u001b[0mresult\u001b[0m\u001b[0;34m)\u001b[0m\u001b[0;34m)\u001b[0m\u001b[0;34m\u001b[0m\u001b[0;34m\u001b[0m\u001b[0m\n\u001b[1;32m     12\u001b[0m \u001b[0;34m\u001b[0m\u001b[0m\n",
      "\u001b[0;31mTypeError\u001b[0m: '>' not supported between instances of 'TableList' and 'int'"
     ]
    }
   ],
   "source": [
    "from astroquery.vizier import Vizier\n",
    "from astropy import coordinates\n",
    "from astropy import units as u\n",
    "\n",
    "v = Vizier(keywords=['stars:white_dwarf'])\n",
    "\n",
    "for i,ii in zip(RA_fields, DEC_fields):\n",
    "    c = coordinates.SkyCoord(RA_fields, DEC_fields, unit=('deg', 'deg'),   frame='icrs')\n",
    "    result = v.query_region(c, radius=1.7*u.deg)\n",
    "    #if result > 0: \n",
    "    print(len(result))\n",
    "\n",
    "    #result[0].pprint()"
   ]
  },
  {
   "cell_type": "code",
   "execution_count": 26,
   "metadata": {},
   "outputs": [],
   "source": [
    "#RA_fields = fields.RA_EQ_dec\n",
    "#DEC_fields =  fields.Dec_EQ_dec \n",
    "plt.scatter(RA_ob,DEC_ob,marker='*',s=2)\n",
    "plt.errorbar(RA_fields, DEC_fields, ms=2,fmt='rs', label=\"data\",\n",
    "              xerr=df, yerr=df, ecolor='blue',capsize=30, elinewidth=1)\n",
    "plt.ylim(-60,60)\n",
    "plt.xlim(0,360)\n",
    "plt.ylabel('DEC')\n",
    "plt.xlabel('RA')\n",
    "plt.title('WDs en campos de TAOS 2')\n",
    "plt.axvline(180, color='g', ls=\"solid\")\n",
    "plt.axhline(23.45, color='g', ls=\"dotted\")\n",
    "plt.axhline(0, color='g', ls=\"solid\")\n",
    "plt.axhline(-23.45, color='g', ls=\"dotted\")\n",
    "plt.show()"
   ]
  },
  {
   "cell_type": "code",
   "execution_count": null,
   "metadata": {},
   "outputs": [],
   "source": []
  }
 ]
}